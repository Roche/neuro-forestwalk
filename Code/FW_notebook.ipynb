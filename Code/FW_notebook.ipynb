{
 "cells": [
  {
   "cell_type": "code",
   "execution_count": 6,
   "id": "fc72fb0e-7e0d-4e67-aace-245cde7c8cba",
   "metadata": {},
   "outputs": [],
   "source": [
    "import pandas as pd\n",
    "import numpy as np\n",
    "from utils import beam_walk as bw\n",
    "from pathlib import Path\n",
    "import os"
   ]
  },
  {
   "cell_type": "code",
   "execution_count": 21,
   "id": "9fadc796-1ecb-4e74-8ae0-279828614713",
   "metadata": {},
   "outputs": [],
   "source": [
    "# VARIABLES THE USER CAN CHANGE\n",
    "exp_path = '/exp_path/' #folder where your experiment is\n",
    "experiment_name = 'Test_experiment' #The name you will give to the results csv file\n",
    "beam_names = ['Beam1', 'Beam2', 'Beam3'] #They need to be 3"
   ]
  },
  {
   "cell_type": "code",
   "execution_count": null,
   "id": "b186ac36-b0b9-4f20-9890-4c8597a82675",
   "metadata": {
    "scrolled": true
   },
   "outputs": [],
   "source": [
    "p_exp = Path(exp_path)\n",
    "p_data = os.path.join(exp_path, 'DLC_tracking/')\n",
    "metadata_path = os.path.join(exp_path, 'metadata.csv')\n",
    "extension = '.h5'\n",
    "\n",
    "# Gather the list of data files with the specified extension and filtering criteria\n",
    "data_files = [i.stem for i in p_exp.glob('DLC_tracking/*.h5')]\n",
    "\n",
    "# Read the metadata from the CSV file\n",
    "metadata = pd.read_csv(metadata_path, header=[0])\n",
    "\n",
    "results_df = pd.DataFrame(columns = ['File_pattern', 'Animal_ID', 'Group_name', 'Sex', 'Age', 'Beam', 'Weight', 'TimeToCross', 'footslips'])\n",
    "\n",
    "for data_file in data_files:\n",
    "    print('Analyzing file: ' + data_file)\n",
    "    \n",
    "    # Construct the full path to the data file\n",
    "    data_path = os.path.join(p_data, data_file + extension)\n",
    "    \n",
    "    # Create a Trial object using the data path and metadata\n",
    "    trial = bw.Trial(data_path, metadata, beam_names)\n",
    "\n",
    "    File_pattern = trial.file_pattern\n",
    "    Animal_ID = trial.animalID\n",
    "    Group_name = trial.group\n",
    "    Sex = trial.sex\n",
    "    Age = trial.age\n",
    "    Beam = trial.beam\n",
    "    Weight = trial.weight\n",
    "    timeToCross = trial.timeToCross\n",
    "    footslips = trial.footslips\n",
    "\n",
    "\n",
    "    row = [File_pattern, Animal_ID, Group_name, Sex, Age, Beam, Weight, timeToCross, footslips]\n",
    "    results_df.loc[len(results_df)] = row\n",
    "\n",
    "# Saving results\n",
    "results_df.to_csv(os.path.join(p_exp, experiment_name + '.csv'), index=False)\n"
   ]
  }
 ],
 "metadata": {
  "kernelspec": {
   "display_name": "test_environment",
   "language": "python",
   "name": "test_environment"
  },
  "language_info": {
   "codemirror_mode": {
    "name": "ipython",
    "version": 3
   },
   "file_extension": ".py",
   "mimetype": "text/x-python",
   "name": "python",
   "nbconvert_exporter": "python",
   "pygments_lexer": "ipython3",
   "version": "3.9.19"
  }
 },
 "nbformat": 4,
 "nbformat_minor": 5
}
